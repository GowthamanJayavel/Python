{
 "cells": [
  {
   "cell_type": "code",
   "execution_count": 2,
   "id": "80af4d13",
   "metadata": {},
   "outputs": [
    {
     "name": "stdout",
     "output_type": "stream",
     "text": [
      "Welcome to Assignment-1\n"
     ]
    }
   ],
   "source": [
    "print( \"Welcome to Assignment-1\")"
   ]
  },
  {
   "cell_type": "code",
   "execution_count": 3,
   "id": "934da5f5",
   "metadata": {},
   "outputs": [
    {
     "name": "stdout",
     "output_type": "stream",
     "text": [
      " Num1= 10\n",
      " Num1= 30\n",
      " Add= 40\n"
     ]
    }
   ],
   "source": [
    "print (\" Num1= 10\")\n",
    "print (\" Num1= 30\")\n",
    "print (\" Add= 40\")"
   ]
  },
  {
   "cell_type": "code",
   "execution_count": 4,
   "id": "065a83b5",
   "metadata": {},
   "outputs": [
    {
     "name": "stdout",
     "output_type": "stream",
     "text": [
      "Enter the BMI Index:34\n"
     ]
    }
   ],
   "source": [
    "weight = int(input(\"Enter the BMI Index:\"))"
   ]
  },
  {
   "cell_type": "code",
   "execution_count": 9,
   "id": "abf6111d",
   "metadata": {},
   "outputs": [
    {
     "name": "stdout",
     "output_type": "stream",
     "text": [
      "Enter the BMI Index:35\n",
      "Very Overweight\n"
     ]
    }
   ],
   "source": [
    "weight = int(input(\"Enter the BMI Index:\"))\n",
    "if(weight<16):\n",
    "    print(\"Severely Underweight\")\n",
    "elif(weight<18):\n",
    "    print(\"Underweight\")\n",
    "elif(weight<25):\n",
    "    print(\"Normal\")\n",
    "elif(weight<29):\n",
    "    print(\"Overweight\")\n",
    "elif(weight<34):\n",
    "    print(\"Moderately Obese\")\n",
    "else:\n",
    "    print(\"Very Overweight\")"
   ]
  },
  {
   "cell_type": "code",
   "execution_count": null,
   "id": "0c4505f2",
   "metadata": {},
   "outputs": [],
   "source": []
  },
  {
   "cell_type": "code",
   "execution_count": null,
   "id": "89a684ce",
   "metadata": {},
   "outputs": [],
   "source": []
  }
 ],
 "metadata": {
  "kernelspec": {
   "display_name": "Python 3 (ipykernel)",
   "language": "python",
   "name": "python3"
  },
  "language_info": {
   "codemirror_mode": {
    "name": "ipython",
    "version": 3
   },
   "file_extension": ".py",
   "mimetype": "text/x-python",
   "name": "python",
   "nbconvert_exporter": "python",
   "pygments_lexer": "ipython3",
   "version": "3.11.5"
  }
 },
 "nbformat": 4,
 "nbformat_minor": 5
}
