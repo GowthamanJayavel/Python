{
 "cells": [
  {
   "cell_type": "code",
   "execution_count": 1,
   "id": "df686f65",
   "metadata": {},
   "outputs": [
    {
     "name": "stdout",
     "output_type": "stream",
     "text": [
      "welcome to Hope AI\n"
     ]
    }
   ],
   "source": [
    "print (\"welcome to Hope AI\")"
   ]
  },
  {
   "cell_type": "code",
   "execution_count": 2,
   "id": "badc0108",
   "metadata": {},
   "outputs": [
    {
     "ename": "NameError",
     "evalue": "name 'Print' is not defined",
     "output_type": "error",
     "traceback": [
      "\u001b[1;31m---------------------------------------------------------------------------\u001b[0m",
      "\u001b[1;31mNameError\u001b[0m                                 Traceback (most recent call last)",
      "Cell \u001b[1;32mIn[2], line 1\u001b[0m\n\u001b[1;32m----> 1\u001b[0m Print (\u001b[38;5;124m\"\u001b[39m\u001b[38;5;124mwelcome to Hope AI\u001b[39m\u001b[38;5;124m\"\u001b[39m)\n",
      "\u001b[1;31mNameError\u001b[0m: name 'Print' is not defined"
     ]
    }
   ],
   "source": [
    "Print (\"welcome to Hope AI\")"
   ]
  },
  {
   "cell_type": "code",
   "execution_count": null,
   "id": "0edda247",
   "metadata": {},
   "outputs": [],
   "source": [
    "# (p) always should be in small letter instead of Capital Letter - ERROR REASON"
   ]
  },
  {
   "cell_type": "code",
   "execution_count": null,
   "id": "34277afc",
   "metadata": {},
   "outputs": [],
   "source": [
    "# Name Error: reason is not predefinded in the memory so only error"
   ]
  },
  {
   "cell_type": "code",
   "execution_count": null,
   "id": "5aa2c45b",
   "metadata": {},
   "outputs": [],
   "source": [
    "# whatever we are giving inside the Double () is called String"
   ]
  }
 ],
 "metadata": {
  "kernelspec": {
   "display_name": "Python 3 (ipykernel)",
   "language": "python",
   "name": "python3"
  },
  "language_info": {
   "codemirror_mode": {
    "name": "ipython",
    "version": 3
   },
   "file_extension": ".py",
   "mimetype": "text/x-python",
   "name": "python",
   "nbconvert_exporter": "python",
   "pygments_lexer": "ipython3",
   "version": "3.11.5"
  }
 },
 "nbformat": 4,
 "nbformat_minor": 5
}
