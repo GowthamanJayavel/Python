{
 "cells": [
  {
   "cell_type": "code",
   "execution_count": null,
   "id": "19b3c8d6",
   "metadata": {},
   "outputs": [],
   "source": [
    "num1 = 10\n",
    "num2 = 30\n",
    "add = num1+num2"
   ]
  },
  {
   "cell_type": "code",
   "execution_count": 1,
   "id": "c2877e61",
   "metadata": {},
   "outputs": [
    {
     "name": "stdout",
     "output_type": "stream",
     "text": [
      "add\n"
     ]
    }
   ],
   "source": [
    "num1 = 10\n",
    "num2 = 30\n",
    "add = num1+num2\n",
    "print (\"add\")"
   ]
  },
  {
   "cell_type": "code",
   "execution_count": 2,
   "id": "7aca7d7c",
   "metadata": {},
   "outputs": [
    {
     "name": "stdout",
     "output_type": "stream",
     "text": [
      "add\n",
      "40\n"
     ]
    }
   ],
   "source": [
    "num1 = 10\n",
    "num2 = 30\n",
    "add = num1+num2\n",
    "print (\"add\")\n",
    "print (add)"
   ]
  },
  {
   "cell_type": "code",
   "execution_count": 13,
   "id": "d436e884",
   "metadata": {},
   "outputs": [
    {
     "name": "stdout",
     "output_type": "stream",
     "text": [
      "The addition of two numbers\n",
      "The number 1: 10\n",
      "The number 2: 20\n",
      "The Answer: 30\n"
     ]
    }
   ],
   "source": [
    "print (\"The addition of two numbers\")\n",
    "num1 = 10\n",
    "print (\"The number 1:\",num1)\n",
    "num2 = 20\n",
    "print (\"The number 2:\",num2)\n",
    "print(\"The Answer:\",num1+num2)"
   ]
  },
  {
   "cell_type": "code",
   "execution_count": 14,
   "id": "a4c3b8ec",
   "metadata": {},
   "outputs": [
    {
     "name": "stdout",
     "output_type": "stream",
     "text": [
      "The addition of two numbers\n",
      "The number 1: 10\n",
      "The number 2: 20\n",
      "The answer: 30\n"
     ]
    }
   ],
   "source": [
    "print (\"The addition of two numbers\")\n",
    "num1 = 10\n",
    "print (\"The number 1:\",num1)\n",
    "num2 = 20\n",
    "print (\"The number 2:\",num2)\n",
    "add =num1+num2\n",
    "print(\"The answer:\",add)"
   ]
  },
  {
   "cell_type": "code",
   "execution_count": null,
   "id": "5370de5b",
   "metadata": {},
   "outputs": [],
   "source": []
  }
 ],
 "metadata": {
  "kernelspec": {
   "display_name": "Python 3 (ipykernel)",
   "language": "python",
   "name": "python3"
  },
  "language_info": {
   "codemirror_mode": {
    "name": "ipython",
    "version": 3
   },
   "file_extension": ".py",
   "mimetype": "text/x-python",
   "name": "python",
   "nbconvert_exporter": "python",
   "pygments_lexer": "ipython3",
   "version": "3.11.5"
  }
 },
 "nbformat": 4,
 "nbformat_minor": 5
}
