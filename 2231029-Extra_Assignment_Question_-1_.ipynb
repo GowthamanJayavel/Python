{
 "cells": [
  {
   "cell_type": "code",
   "execution_count": 1,
   "id": "85339c55",
   "metadata": {},
   "outputs": [
    {
     "name": "stdout",
     "output_type": "stream",
     "text": [
      "HOPE AI\n"
     ]
    }
   ],
   "source": [
    "print(\"HOPE AI\")"
   ]
  },
  {
   "cell_type": "code",
   "execution_count": 3,
   "id": "5ef7aa3b",
   "metadata": {},
   "outputs": [
    {
     "name": "stdout",
     "output_type": "stream",
     "text": [
      "Enter the Institution Name?:HOPE AI\n"
     ]
    }
   ],
   "source": [
    "name = (input(\"Enter the Institution Name?:\"))"
   ]
  },
  {
   "cell_type": "code",
   "execution_count": 7,
   "id": "a70b3653",
   "metadata": {},
   "outputs": [
    {
     "name": "stdout",
     "output_type": "stream",
     "text": [
      "Enter your name: Raj\n",
      "Enter your age: 15\n",
      "Enter your school name: Guru School\n",
      "Enter your degree: B.E CSE\n"
     ]
    }
   ],
   "source": [
    "name = (input(\"Enter your name: \"))\n",
    "age = int(input(\"Enter your age: \"))\n",
    "schoolname = (input(\"Enter your school name: \"))\n",
    "degree = (input(\"Enter your degree: \"))"
   ]
  },
  {
   "cell_type": "code",
   "execution_count": 3,
   "id": "74bcf8a6",
   "metadata": {},
   "outputs": [
    {
     "name": "stdout",
     "output_type": "stream",
     "text": [
      "a= 43\n",
      "b= 34\n",
      "add = 77\n"
     ]
    }
   ],
   "source": [
    "a=int(input(\"a= \"))\n",
    "b=int(input(\"b= \"))\n",
    "result = a + b\n",
    "print(\"add =\",result)"
   ]
  },
  {
   "cell_type": "code",
   "execution_count": 5,
   "id": "def1a661",
   "metadata": {},
   "outputs": [
    {
     "name": "stdout",
     "output_type": "stream",
     "text": [
      "a= 43\n",
      "b= 34\n",
      "sub = 9\n"
     ]
    }
   ],
   "source": [
    "a=int(input(\"a= \"))\n",
    "b=int(input(\"b= \"))\n",
    "result = a - b\n",
    "print(\"sub =\",result)"
   ]
  },
  {
   "cell_type": "code",
   "execution_count": 6,
   "id": "04359cf4",
   "metadata": {},
   "outputs": [
    {
     "name": "stdout",
     "output_type": "stream",
     "text": [
      "a= 63\n",
      "b= 97\n",
      "multiplication = 6111\n"
     ]
    }
   ],
   "source": [
    "a=int(input(\"a= \"))\n",
    "b=int(input(\"b= \"))\n",
    "result = a * b\n",
    "print(\"multiplication =\",result)"
   ]
  },
  {
   "cell_type": "code",
   "execution_count": 7,
   "id": "cb2e19a9",
   "metadata": {},
   "outputs": [
    {
     "name": "stdout",
     "output_type": "stream",
     "text": [
      "a= 76\n",
      "b= 31\n",
      "float div = 2.4516129032258065\n"
     ]
    }
   ],
   "source": [
    "a=int(input(\"a= \"))\n",
    "b=int(input(\"b= \"))\n",
    "result = a / b\n",
    "print(\"float div =\",result)"
   ]
  },
  {
   "cell_type": "code",
   "execution_count": 10,
   "id": "19446432",
   "metadata": {},
   "outputs": [
    {
     "name": "stdout",
     "output_type": "stream",
     "text": [
      "a= 76\n",
      "b= 31\n",
      "floor div = 2\n"
     ]
    }
   ],
   "source": [
    "a=int(input(\"a= \"))\n",
    "b=int(input(\"b= \"))\n",
    "result = a // b\n",
    "print(\"floor div =\",result)"
   ]
  },
  {
   "cell_type": "code",
   "execution_count": 11,
   "id": "cacddfff",
   "metadata": {},
   "outputs": [
    {
     "name": "stdout",
     "output_type": "stream",
     "text": [
      "a= 76\n",
      "b= 31\n",
      "Modulo = 14\n"
     ]
    }
   ],
   "source": [
    "a=int(input(\"a= \"))\n",
    "b=int(input(\"b= \"))\n",
    "result = a % b\n",
    "print(\"Modulo =\",result)"
   ]
  },
  {
   "cell_type": "code",
   "execution_count": 12,
   "id": "79271382",
   "metadata": {},
   "outputs": [
    {
     "name": "stdout",
     "output_type": "stream",
     "text": [
      "a= 4\n",
      "b= 4\n",
      "Power = 256\n"
     ]
    }
   ],
   "source": [
    "a=int(input(\"a= \"))\n",
    "b=int(input(\"b= \"))\n",
    "result = a ** b\n",
    "print(\"Power =\",result)"
   ]
  },
  {
   "cell_type": "code",
   "execution_count": null,
   "id": "411246d6",
   "metadata": {},
   "outputs": [],
   "source": []
  }
 ],
 "metadata": {
  "kernelspec": {
   "display_name": "Python 3 (ipykernel)",
   "language": "python",
   "name": "python3"
  },
  "language_info": {
   "codemirror_mode": {
    "name": "ipython",
    "version": 3
   },
   "file_extension": ".py",
   "mimetype": "text/x-python",
   "name": "python",
   "nbconvert_exporter": "python",
   "pygments_lexer": "ipython3",
   "version": "3.11.5"
  }
 },
 "nbformat": 4,
 "nbformat_minor": 5
}
