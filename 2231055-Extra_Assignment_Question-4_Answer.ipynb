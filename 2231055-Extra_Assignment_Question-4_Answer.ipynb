{
 "cells": [
  {
   "cell_type": "code",
   "execution_count": 1,
   "id": "439f4743",
   "metadata": {},
   "outputs": [],
   "source": [
    "class subfieldsinAIare():\n",
    "    def subfieldsinAI():\n",
    "        subfieldsinAI= [\"Machine Learning\", \"Neural Networks\", \"Vision\", \"Robotics\", \"Speech Processing\", \"Natural Language Processing\"]\n",
    "        print(\"Sub-fields in AI are:\")\n",
    "        for i in subfieldsinAI:\n",
    "            print(i)"
   ]
  },
  {
   "cell_type": "code",
   "execution_count": 2,
   "id": "9200c160",
   "metadata": {},
   "outputs": [
    {
     "name": "stdout",
     "output_type": "stream",
     "text": [
      "Sub-fields in AI are:\n",
      "Machine Learning\n",
      "Neural Networks\n",
      "Vision\n",
      "Robotics\n",
      "Speech Processing\n",
      "Natural Language Processing\n"
     ]
    }
   ],
   "source": [
    "subfieldsinAIare.subfieldsinAI()"
   ]
  },
  {
   "cell_type": "code",
   "execution_count": 3,
   "id": "41b6381c",
   "metadata": {},
   "outputs": [],
   "source": [
    "class oddeven():\n",
    "    def OddEven():\n",
    "        num = int(input(\"Enter a Number:\"))\n",
    "        if num % 2 == 0:\n",
    "                print(num,\"is Even number\")\n",
    "        else:\n",
    "            print(num,\"is Odd number\")"
   ]
  },
  {
   "cell_type": "code",
   "execution_count": 4,
   "id": "6dc0e939",
   "metadata": {},
   "outputs": [
    {
     "name": "stdout",
     "output_type": "stream",
     "text": [
      "Enter a Number:52452\n",
      "52452 is Even number\n"
     ]
    }
   ],
   "source": [
    "oddeven.OddEven()"
   ]
  },
  {
   "cell_type": "code",
   "execution_count": 27,
   "id": "0c63f31f",
   "metadata": {},
   "outputs": [],
   "source": [
    "class ElegiblityForMarriage():\n",
    "    def Elegible():\n",
    "        gender = (input(\"Your Gender:\"))\n",
    "        Age = int(input(\"Your Age:\"))\n",
    "        if gender.lower() == 'male' and Age >= 21:\n",
    "            print(\"ELIGIBLE\")\n",
    "        elif gender.lower() == 'female' and Age >=18:\n",
    "            print(\"ELIGIBLE\")\n",
    "        else:\n",
    "            print(\"NOT ELIGIBLE\")\n",
    "        "
   ]
  },
  {
   "cell_type": "code",
   "execution_count": 28,
   "id": "529031b0",
   "metadata": {},
   "outputs": [
    {
     "name": "stdout",
     "output_type": "stream",
     "text": [
      "Your Gender:Male\n",
      "Your Age:20\n",
      "NOT ELIGIBLE\n"
     ]
    }
   ],
   "source": [
    "ElegiblityForMarriage.Elegible()"
   ]
  },
  {
   "cell_type": "code",
   "execution_count": 7,
   "id": "27654a58",
   "metadata": {},
   "outputs": [],
   "source": [
    "class FindPercent():\n",
    "    def percentage():\n",
    "        a=int(input(\"subject1= \"))\n",
    "        b=int(input(\"subject2= \"))\n",
    "        c=int(input(\"subject3= \"))\n",
    "        d=int(input(\"subject4= \"))\n",
    "        e=int(input(\"subject5= \"))\n",
    "        result = a + b + c + d + e\n",
    "        print(\"Total =\",result)\n",
    "        maxmarks= 100\n",
    "        totalmarks= maxmarks*5\n",
    "        percentage=(result/totalmarks)*100\n",
    "        print(f\"Percentage = {percentage:.2f}%\")"
   ]
  },
  {
   "cell_type": "code",
   "execution_count": 8,
   "id": "5bb661b9",
   "metadata": {},
   "outputs": [
    {
     "name": "stdout",
     "output_type": "stream",
     "text": [
      "subject1= 98\n",
      "subject2= 87\n",
      "subject3= 95\n",
      "subject4= 95\n",
      "subject5= 93\n",
      "Total = 468\n",
      "Percentage = 93.60%\n"
     ]
    }
   ],
   "source": [
    "FindPercent.percentage()"
   ]
  },
  {
   "cell_type": "code",
   "execution_count": 13,
   "id": "0ceb06e2",
   "metadata": {},
   "outputs": [
    {
     "name": "stdout",
     "output_type": "stream",
     "text": [
      "Height: 32\n",
      "Breadth: 34\n",
      "Area of Triangle: 544.0\n",
      "Height1: 2\n",
      "Height2: 4\n",
      "Breadth2: 4\n",
      "Perimeter of Triangle: 10\n"
     ]
    }
   ],
   "source": [
    "a=int(input(\"Height: \"))\n",
    "b=int(input(\"Breadth: \"))\n",
    "area = (a * b) / 2\n",
    "print(f\"Area of Triangle: {area}\")\n",
    "c=int(input(\"Height1: \"))\n",
    "d=int(input(\"Height2: \"))\n",
    "e=int(input(\"Breadth2: \"))\n",
    "perimeter = c + d + e\n",
    "print(f\"Perimeter of Triangle: {perimeter}\")\n"
   ]
  },
  {
   "cell_type": "code",
   "execution_count": 14,
   "id": "6beb794c",
   "metadata": {},
   "outputs": [],
   "source": [
    "class triangle():\n",
    "    def triangle1():\n",
    "        a=int(input(\"Height: \"))\n",
    "        b=int(input(\"Breadth: \"))\n",
    "        area = (a * b) / 2\n",
    "        print(f\"Area of Triangle: {area}\")\n",
    "        c=int(input(\"Height1: \"))\n",
    "        d=int(input(\"Height2: \"))\n",
    "        e=int(input(\"Breadth2: \"))\n",
    "        perimeter = c + d + e\n",
    "        print(f\"Perimeter of Triangle: {perimeter}\")"
   ]
  },
  {
   "cell_type": "code",
   "execution_count": 15,
   "id": "1064f5ee",
   "metadata": {},
   "outputs": [
    {
     "name": "stdout",
     "output_type": "stream",
     "text": [
      "Height: 32\n",
      "Breadth: 34\n",
      "Area of Triangle: 544.0\n",
      "Height1: 2\n",
      "Height2: 4\n",
      "Breadth2: 4\n",
      "Perimeter of Triangle: 10\n"
     ]
    }
   ],
   "source": [
    "triangle.triangle1()"
   ]
  },
  {
   "cell_type": "code",
   "execution_count": null,
   "id": "45f464b4",
   "metadata": {},
   "outputs": [],
   "source": []
  }
 ],
 "metadata": {
  "kernelspec": {
   "display_name": "Python 3 (ipykernel)",
   "language": "python",
   "name": "python3"
  },
  "language_info": {
   "codemirror_mode": {
    "name": "ipython",
    "version": 3
   },
   "file_extension": ".py",
   "mimetype": "text/x-python",
   "name": "python",
   "nbconvert_exporter": "python",
   "pygments_lexer": "ipython3",
   "version": "3.11.5"
  }
 },
 "nbformat": 4,
 "nbformat_minor": 5
}
